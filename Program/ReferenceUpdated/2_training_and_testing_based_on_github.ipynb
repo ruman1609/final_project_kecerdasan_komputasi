{
 "cells": [
  {
   "cell_type": "code",
   "execution_count": 1,
   "id": "2115fdb7",
   "metadata": {},
   "outputs": [
    {
     "name": "stderr",
     "output_type": "stream",
     "text": [
      "2023-06-06 15:15:48.795549: I tensorflow/core/platform/cpu_feature_guard.cc:193] This TensorFlow binary is optimized with oneAPI Deep Neural Network Library (oneDNN) to use the following CPU instructions in performance-critical operations:  AVX2 FMA\n",
      "To enable them in other operations, rebuild TensorFlow with the appropriate compiler flags.\n",
      "2023-06-06 15:15:51.071296: W tensorflow/compiler/xla/stream_executor/platform/default/dso_loader.cc:64] Could not load dynamic library 'libnvinfer.so.7'; dlerror: libnvinfer.so.7: cannot open shared object file: No such file or directory; LD_LIBRARY_PATH: :/home/rudyrachman16/miniconda3/envs/tf/lib/\n",
      "2023-06-06 15:15:51.084414: W tensorflow/compiler/xla/stream_executor/platform/default/dso_loader.cc:64] Could not load dynamic library 'libnvinfer_plugin.so.7'; dlerror: libnvinfer_plugin.so.7: cannot open shared object file: No such file or directory; LD_LIBRARY_PATH: :/home/rudyrachman16/miniconda3/envs/tf/lib/\n",
      "2023-06-06 15:15:51.084444: W tensorflow/compiler/tf2tensorrt/utils/py_utils.cc:38] TF-TRT Warning: Cannot dlopen some TensorRT libraries. If you would like to use Nvidia GPU with TensorRT, please make sure the missing libraries mentioned above are installed properly.\n"
     ]
    },
    {
     "name": "stdout",
     "output_type": "stream",
     "text": [
      "We are running 2.11.0 version of the TensorFlow,\n",
      "and we have 1 GPUs Available.\n"
     ]
    }
   ],
   "source": [
    "import tensorflow as tf\n",
    "import os\n",
    "os.environ['TF_CPP_MIN_LOG_LEVEL'] = '3'\n",
    "from utilities import model_creation, metrics_and_plots, data_processing\n",
    "from tensorflow.keras.utils import plot_model, to_categorical\n",
    "from tensorflow.keras.callbacks import ModelCheckpoint, ReduceLROnPlateau, CSVLogger, EarlyStopping\n",
    "# Let's see our luck\n",
    "print(\"We are running {} version of the TensorFlow,\\nand we have {} GPUs Available.\".format(\n",
    "    tf.__version__, len(tf.config.list_physical_devices('GPU'))))"
   ]
  },
  {
   "cell_type": "code",
   "execution_count": 2,
   "id": "422cda87",
   "metadata": {},
   "outputs": [],
   "source": [
    "target_size = (128, 128)\n",
    "batch_size = 32\n",
    "epochs = 50\n",
    "input_shape = (128, 128, 3)\n",
    "\n",
    "METRICS = [\n",
    "    tf.keras.metrics.TruePositives(name='tp'),\n",
    "    tf.keras.metrics.FalsePositives(name='fp'),\n",
    "    tf.keras.metrics.TrueNegatives(name='tn'),\n",
    "    tf.keras.metrics.FalseNegatives(name='fn'), \n",
    "    tf.keras.metrics.BinaryAccuracy(name='accuracy'),\n",
    "    tf.keras.metrics.Precision(name='precision'),\n",
    "    tf.keras.metrics.Recall(name='recall'),\n",
    "    tf.keras.metrics.AUC(name='auc'),\n",
    "    tf.keras.metrics.AUC(name='prc', curve='PR'), # precision-recall curve\n",
    "    tf.keras.metrics.SpecificityAtSensitivity(sensitivity=0.5, name = 'Specificity'),\n",
    "    tf.keras.metrics.SensitivityAtSpecificity(specificity=0.5, name = 'Sensitivity')\n",
    "]"
   ]
  },
  {
   "cell_type": "code",
   "execution_count": 3,
   "id": "577ca46a",
   "metadata": {},
   "outputs": [
    {
     "name": "stdout",
     "output_type": "stream",
     "text": [
      "Found 28083 images belonging to 5 classes.\n",
      "Found 3508 images belonging to 5 classes.\n",
      "Found 3508 images belonging to 5 classes.\n"
     ]
    }
   ],
   "source": [
    "# os.chdir(\"../../Dataset/2_0_1_splitted\")\n",
    "os.chdir(\"../../Dataset/1_asli_splitted\")\n",
    "\n",
    "train_dir = \"train\"\n",
    "test_dir = \"test\"\n",
    "val_dir = \"validation\"\n",
    "\n",
    "\n",
    "train_iterator = data_processing.generate_iterator(path=train_dir, augmentation = True, \n",
    "                                                   rescale = 0, batch_size = batch_size)\n",
    "test_iterator = data_processing.generate_iterator(path=test_dir, augmentation=False, \n",
    "                                                  shuffle=False, rescale=0, batch_size = batch_size)\n",
    "validation_iterator = data_processing.generate_iterator(path=val_dir, augmentation=False, \n",
    "                                                        shuffle=False, rescale=0, batch_size = batch_size)\n",
    "\n",
    "# data_processing.display_images(train_iterator)"
   ]
  },
  {
   "cell_type": "code",
   "execution_count": 4,
   "id": "55c88825",
   "metadata": {},
   "outputs": [],
   "source": [
    "is_hybrid_model = True\n",
    "is_test_only = False"
   ]
  },
  {
   "cell_type": "code",
   "execution_count": 5,
   "id": "71889dde",
   "metadata": {},
   "outputs": [],
   "source": [
    "# Let's define the callbacks to save the model and reduce the learning rate\n",
    "import os\n",
    "\n",
    "## FOR ENHANCED DATASET\n",
    "save_dir_for_enhanced = os.path.join('..', '..', \"Result\", '2_4_reference_updated')\n",
    "if is_hybrid_model:\n",
    "    model_name_for_enhanced = 'hybrid_model'\n",
    "else:\n",
    "    architecture = \"VGG16\"\n",
    "    model_name_for_enhanced = f'from_tensorflow_{architecture}'\n",
    "if not os.path.isdir(save_dir_for_enhanced):\n",
    "    os.makedirs(save_dir_for_enhanced)\n",
    "filepath_for_enhanced = os.path.join(save_dir_for_enhanced, f\"{model_name_for_enhanced}.h5\")\n",
    "csv_for_enhanced = os.path.join(save_dir_for_enhanced, f\"{model_name_for_enhanced}.csv\")\n",
    "\n",
    "# prepare callbacks for model saving and for learning rate adjustment.\n",
    "checkpoint_for_enhanced = ModelCheckpoint(filepath=filepath_for_enhanced,\n",
    "                                          monitor= 'val_Specificity',\n",
    "                                          verbose=1,\n",
    "                                          save_best_only=True,\n",
    "                                          save_weights_only=True,\n",
    "                                          mode='max')\n",
    "\n",
    "\n",
    "CSVLogger_for_enhanced = CSVLogger(filename=csv_for_enhanced, separator=',',\n",
    "                                  append=False)\n",
    "\n",
    "lr_reducer = ReduceLROnPlateau(factor=0.5,\n",
    "                               cooldown=0,\n",
    "                               patience=5,\n",
    "                               min_lr=1e-6,\n",
    "                               monitor='val_Specificity',\n",
    "                               mode='max')\n",
    "\n",
    "early_stopping = EarlyStopping(patience=6,\n",
    "                               monitor='val_Specificity',\n",
    "                               start_from_epoch=6,\n",
    "                               verbose=1,\n",
    "                               mode='max')\n",
    "\n",
    "\n",
    "callbacks_for_enhanced = [checkpoint_for_enhanced, lr_reducer, CSVLogger_for_enhanced, early_stopping]"
   ]
  },
  {
   "cell_type": "code",
   "execution_count": 6,
   "id": "25cc269c",
   "metadata": {},
   "outputs": [],
   "source": [
    "if is_hybrid_model:\n",
    "    model = model_creation.final_model(input_shape=input_shape, num_classes=5, blocks=4)\n",
    "else:\n",
    "    model = model_creation.model_from_tf(input_shape=input_shape, num_classes=5, is_transfer_learning=False)"
   ]
  },
  {
   "cell_type": "code",
   "execution_count": 7,
   "id": "f1c2704a",
   "metadata": {},
   "outputs": [],
   "source": [
    "model.compile(optimizer = tf.keras.optimizers.Adam(learning_rate=0.001),\n",
    "                           loss = tf.keras.losses.CategoricalCrossentropy(),\n",
    "                           metrics = METRICS)\n",
    "# plot_model(model, show_shapes=True)"
   ]
  },
  {
   "cell_type": "code",
   "execution_count": null,
   "id": "15251f2c",
   "metadata": {
    "scrolled": true
   },
   "outputs": [
    {
     "name": "stdout",
     "output_type": "stream",
     "text": [
      "Epoch 1/50\n",
      "878/878 [==============================] - ETA: 0s - loss: 0.9078 - tp: 20556.0000 - fp: 7431.0000 - tn: 104901.0000 - fn: 7527.0000 - accuracy: 0.8935 - precision: 0.7345 - recall: 0.7320 - auc: 0.8834 - prc: 0.6557 - Specificity: 0.9532 - Sensitivity: 0.9385\n",
      "Epoch 1: val_Specificity improved from -inf to 0.93387, saving model to ../../Result/2_4_reference_updated/hybrid_model_main_only.h5\n",
      "878/878 [==============================] - 1042s 1s/step - loss: 0.9078 - tp: 20556.0000 - fp: 7431.0000 - tn: 104901.0000 - fn: 7527.0000 - accuracy: 0.8935 - precision: 0.7345 - recall: 0.7320 - auc: 0.8834 - prc: 0.6557 - Specificity: 0.9532 - Sensitivity: 0.9385 - val_loss: 0.8916 - val_tp: 2580.0000 - val_fp: 928.0000 - val_tn: 13104.0000 - val_fn: 928.0000 - val_accuracy: 0.8942 - val_precision: 0.7355 - val_recall: 0.7355 - val_auc: 0.8892 - val_prc: 0.6616 - val_Specificity: 0.9339 - val_Sensitivity: 0.8860 - lr: 0.0010\n",
      "Epoch 2/50\n",
      "878/878 [==============================] - ETA: 0s - loss: 0.8766 - tp: 20640.0000 - fp: 7443.0000 - tn: 104889.0000 - fn: 7443.0000 - accuracy: 0.8940 - precision: 0.7350 - recall: 0.7350 - auc: 0.8882 - prc: 0.6583 - Specificity: 0.9538 - Sensitivity: 0.9463\n",
      "Epoch 2: val_Specificity did not improve from 0.93387\n",
      "878/878 [==============================] - 1315s 1s/step - loss: 0.8766 - tp: 20640.0000 - fp: 7443.0000 - tn: 104889.0000 - fn: 7443.0000 - accuracy: 0.8940 - precision: 0.7350 - recall: 0.7350 - auc: 0.8882 - prc: 0.6583 - Specificity: 0.9538 - Sensitivity: 0.9463 - val_loss: 0.8862 - val_tp: 2580.0000 - val_fp: 928.0000 - val_tn: 13104.0000 - val_fn: 928.0000 - val_accuracy: 0.8942 - val_precision: 0.7355 - val_recall: 0.7355 - val_auc: 0.8899 - val_prc: 0.6663 - val_Specificity: 0.9339 - val_Sensitivity: 0.8860 - lr: 0.0010\n",
      "Epoch 3/50\n",
      "878/878 [==============================] - ETA: 0s - loss: 0.8762 - tp: 20640.0000 - fp: 7443.0000 - tn: 104889.0000 - fn: 7443.0000 - accuracy: 0.8940 - precision: 0.7350 - recall: 0.7350 - auc: 0.8881 - prc: 0.6610 - Specificity: 0.9532 - Sensitivity: 0.9488\n",
      "Epoch 3: val_Specificity improved from 0.93387 to 0.94912, saving model to ../../Result/2_4_reference_updated/hybrid_model_main_only.h5\n",
      "878/878 [==============================] - 1160s 1s/step - loss: 0.8762 - tp: 20640.0000 - fp: 7443.0000 - tn: 104889.0000 - fn: 7443.0000 - accuracy: 0.8940 - precision: 0.7350 - recall: 0.7350 - auc: 0.8881 - prc: 0.6610 - Specificity: 0.9532 - Sensitivity: 0.9488 - val_loss: 0.8780 - val_tp: 2580.0000 - val_fp: 928.0000 - val_tn: 13104.0000 - val_fn: 928.0000 - val_accuracy: 0.8942 - val_precision: 0.7355 - val_recall: 0.7355 - val_auc: 0.8903 - val_prc: 0.6691 - val_Specificity: 0.9491 - val_Sensitivity: 0.8860 - lr: 0.0010\n",
      "Epoch 4/50\n",
      "878/878 [==============================] - ETA: 0s - loss: 0.8759 - tp: 20640.0000 - fp: 7443.0000 - tn: 104889.0000 - fn: 7443.0000 - accuracy: 0.8940 - precision: 0.7350 - recall: 0.7350 - auc: 0.8882 - prc: 0.6603 - Specificity: 0.9523 - Sensitivity: 0.9474\n",
      "Epoch 4: val_Specificity improved from 0.94912 to 0.95446, saving model to ../../Result/2_4_reference_updated/hybrid_model_main_only.h5\n",
      "878/878 [==============================] - 1147s 1s/step - loss: 0.8759 - tp: 20640.0000 - fp: 7443.0000 - tn: 104889.0000 - fn: 7443.0000 - accuracy: 0.8940 - precision: 0.7350 - recall: 0.7350 - auc: 0.8882 - prc: 0.6603 - Specificity: 0.9523 - Sensitivity: 0.9474 - val_loss: 0.8733 - val_tp: 2580.0000 - val_fp: 928.0000 - val_tn: 13104.0000 - val_fn: 928.0000 - val_accuracy: 0.8942 - val_precision: 0.7355 - val_recall: 0.7355 - val_auc: 0.8917 - val_prc: 0.6737 - val_Specificity: 0.9545 - val_Sensitivity: 0.8957 - lr: 0.0010\n",
      "Epoch 5/50\n",
      "878/878 [==============================] - ETA: 0s - loss: 0.8809 - tp: 20611.0000 - fp: 7470.0000 - tn: 104862.0000 - fn: 7472.0000 - accuracy: 0.8936 - precision: 0.7340 - recall: 0.7339 - auc: 0.8875 - prc: 0.6585 - Specificity: 0.9548 - Sensitivity: 0.9490\n",
      "Epoch 5: val_Specificity did not improve from 0.95446\n",
      "878/878 [==============================] - 1191s 1s/step - loss: 0.8809 - tp: 20611.0000 - fp: 7470.0000 - tn: 104862.0000 - fn: 7472.0000 - accuracy: 0.8936 - precision: 0.7340 - recall: 0.7339 - auc: 0.8875 - prc: 0.6585 - Specificity: 0.9548 - Sensitivity: 0.9490 - val_loss: 0.8701 - val_tp: 2580.0000 - val_fp: 928.0000 - val_tn: 13104.0000 - val_fn: 928.0000 - val_accuracy: 0.8942 - val_precision: 0.7355 - val_recall: 0.7355 - val_auc: 0.8892 - val_prc: 0.6697 - val_Specificity: 0.9353 - val_Sensitivity: 0.8860 - lr: 0.0010\n",
      "Epoch 6/50\n",
      "878/878 [==============================] - ETA: 0s - loss: 0.8726 - tp: 20640.0000 - fp: 7443.0000 - tn: 104889.0000 - fn: 7443.0000 - accuracy: 0.8940 - precision: 0.7350 - recall: 0.7350 - auc: 0.8890 - prc: 0.6664 - Specificity: 0.9534 - Sensitivity: 0.9496\n",
      "Epoch 6: val_Specificity did not improve from 0.95446\n",
      "878/878 [==============================] - 1363s 2s/step - loss: 0.8726 - tp: 20640.0000 - fp: 7443.0000 - tn: 104889.0000 - fn: 7443.0000 - accuracy: 0.8940 - precision: 0.7350 - recall: 0.7350 - auc: 0.8890 - prc: 0.6664 - Specificity: 0.9534 - Sensitivity: 0.9496 - val_loss: 0.8706 - val_tp: 2580.0000 - val_fp: 928.0000 - val_tn: 13104.0000 - val_fn: 928.0000 - val_accuracy: 0.8942 - val_precision: 0.7355 - val_recall: 0.7355 - val_auc: 0.8911 - val_prc: 0.6704 - val_Specificity: 0.9374 - val_Sensitivity: 0.8891 - lr: 0.0010\n",
      "Epoch 7/50\n",
      "878/878 [==============================] - ETA: 0s - loss: 0.8720 - tp: 20640.0000 - fp: 7443.0000 - tn: 104889.0000 - fn: 7443.0000 - accuracy: 0.8940 - precision: 0.7350 - recall: 0.7350 - auc: 0.8889 - prc: 0.6632 - Specificity: 0.9534 - Sensitivity: 0.9511\n",
      "Epoch 7: val_Specificity improved from 0.95446 to 0.95660, saving model to ../../Result/2_4_reference_updated/hybrid_model_main_only.h5\n",
      "878/878 [==============================] - 1310s 1s/step - loss: 0.8720 - tp: 20640.0000 - fp: 7443.0000 - tn: 104889.0000 - fn: 7443.0000 - accuracy: 0.8940 - precision: 0.7350 - recall: 0.7350 - auc: 0.8889 - prc: 0.6632 - Specificity: 0.9534 - Sensitivity: 0.9511 - val_loss: 0.8752 - val_tp: 2580.0000 - val_fp: 928.0000 - val_tn: 13104.0000 - val_fn: 928.0000 - val_accuracy: 0.8942 - val_precision: 0.7355 - val_recall: 0.7355 - val_auc: 0.8907 - val_prc: 0.6684 - val_Specificity: 0.9566 - val_Sensitivity: 0.9316 - lr: 0.0010\n",
      "Epoch 8/50\n",
      "878/878 [==============================] - ETA: 0s - loss: 0.8709 - tp: 20640.0000 - fp: 7443.0000 - tn: 104889.0000 - fn: 7443.0000 - accuracy: 0.8940 - precision: 0.7350 - recall: 0.7350 - auc: 0.8886 - prc: 0.6610 - Specificity: 0.9512 - Sensitivity: 0.9514\n",
      "Epoch 8: val_Specificity did not improve from 0.95660\n",
      "878/878 [==============================] - 1291s 1s/step - loss: 0.8709 - tp: 20640.0000 - fp: 7443.0000 - tn: 104889.0000 - fn: 7443.0000 - accuracy: 0.8940 - precision: 0.7350 - recall: 0.7350 - auc: 0.8886 - prc: 0.6610 - Specificity: 0.9512 - Sensitivity: 0.9514 - val_loss: 0.8749 - val_tp: 2580.0000 - val_fp: 928.0000 - val_tn: 13104.0000 - val_fn: 928.0000 - val_accuracy: 0.8942 - val_precision: 0.7355 - val_recall: 0.7355 - val_auc: 0.8920 - val_prc: 0.6725 - val_Specificity: 0.9515 - val_Sensitivity: 0.9401 - lr: 0.0010\n",
      "Epoch 9/50\n",
      "878/878 [==============================] - ETA: 0s - loss: 0.8701 - tp: 20640.0000 - fp: 7443.0000 - tn: 104889.0000 - fn: 7443.0000 - accuracy: 0.8940 - precision: 0.7350 - recall: 0.7350 - auc: 0.8895 - prc: 0.6669 - Specificity: 0.9547 - Sensitivity: 0.9469\n",
      "Epoch 9: val_Specificity improved from 0.95660 to 0.95781, saving model to ../../Result/2_4_reference_updated/hybrid_model_main_only.h5\n",
      "878/878 [==============================] - 1257s 1s/step - loss: 0.8701 - tp: 20640.0000 - fp: 7443.0000 - tn: 104889.0000 - fn: 7443.0000 - accuracy: 0.8940 - precision: 0.7350 - recall: 0.7350 - auc: 0.8895 - prc: 0.6669 - Specificity: 0.9547 - Sensitivity: 0.9469 - val_loss: 0.8686 - val_tp: 2580.0000 - val_fp: 928.0000 - val_tn: 13104.0000 - val_fn: 928.0000 - val_accuracy: 0.8942 - val_precision: 0.7355 - val_recall: 0.7355 - val_auc: 0.8926 - val_prc: 0.6797 - val_Specificity: 0.9578 - val_Sensitivity: 0.9310 - lr: 0.0010\n",
      "Epoch 10/50\n"
     ]
    },
    {
     "name": "stdout",
     "output_type": "stream",
     "text": [
      "878/878 [==============================] - ETA: 0s - loss: 0.8733 - tp: 20638.0000 - fp: 7445.0000 - tn: 104887.0000 - fn: 7445.0000 - accuracy: 0.8940 - precision: 0.7349 - recall: 0.7349 - auc: 0.8896 - prc: 0.6653 - Specificity: 0.9548 - Sensitivity: 0.9493\n",
      "Epoch 10: val_Specificity did not improve from 0.95781\n",
      "878/878 [==============================] - 1315s 1s/step - loss: 0.8733 - tp: 20638.0000 - fp: 7445.0000 - tn: 104887.0000 - fn: 7445.0000 - accuracy: 0.8940 - precision: 0.7349 - recall: 0.7349 - auc: 0.8896 - prc: 0.6653 - Specificity: 0.9548 - Sensitivity: 0.9493 - val_loss: 0.8704 - val_tp: 2580.0000 - val_fp: 928.0000 - val_tn: 13104.0000 - val_fn: 928.0000 - val_accuracy: 0.8942 - val_precision: 0.7355 - val_recall: 0.7355 - val_auc: 0.8912 - val_prc: 0.6789 - val_Specificity: 0.9416 - val_Sensitivity: 0.8962 - lr: 0.0010\n",
      "Epoch 11/50\n",
      "878/878 [==============================] - ETA: 0s - loss: 0.8693 - tp: 20640.0000 - fp: 7443.0000 - tn: 104889.0000 - fn: 7443.0000 - accuracy: 0.8940 - precision: 0.7350 - recall: 0.7350 - auc: 0.8889 - prc: 0.6622 - Specificity: 0.9500 - Sensitivity: 0.9463\n",
      "Epoch 11: val_Specificity did not improve from 0.95781\n",
      "878/878 [==============================] - 1179s 1s/step - loss: 0.8693 - tp: 20640.0000 - fp: 7443.0000 - tn: 104889.0000 - fn: 7443.0000 - accuracy: 0.8940 - precision: 0.7350 - recall: 0.7350 - auc: 0.8889 - prc: 0.6622 - Specificity: 0.9500 - Sensitivity: 0.9463 - val_loss: 0.8657 - val_tp: 2580.0000 - val_fp: 928.0000 - val_tn: 13104.0000 - val_fn: 928.0000 - val_accuracy: 0.8942 - val_precision: 0.7355 - val_recall: 0.7355 - val_auc: 0.8921 - val_prc: 0.6816 - val_Specificity: 0.9422 - val_Sensitivity: 0.8962 - lr: 0.0010\n",
      "Epoch 12/50\n",
      "878/878 [==============================] - ETA: 0s - loss: 0.8695 - tp: 20640.0000 - fp: 7443.0000 - tn: 104889.0000 - fn: 7443.0000 - accuracy: 0.8940 - precision: 0.7350 - recall: 0.7350 - auc: 0.8890 - prc: 0.6618 - Specificity: 0.9545 - Sensitivity: 0.9514\n",
      "Epoch 12: val_Specificity did not improve from 0.95781\n",
      "878/878 [==============================] - 1141s 1s/step - loss: 0.8695 - tp: 20640.0000 - fp: 7443.0000 - tn: 104889.0000 - fn: 7443.0000 - accuracy: 0.8940 - precision: 0.7350 - recall: 0.7350 - auc: 0.8890 - prc: 0.6618 - Specificity: 0.9545 - Sensitivity: 0.9514 - val_loss: 0.8673 - val_tp: 2580.0000 - val_fp: 928.0000 - val_tn: 13104.0000 - val_fn: 928.0000 - val_accuracy: 0.8942 - val_precision: 0.7355 - val_recall: 0.7355 - val_auc: 0.8934 - val_prc: 0.6772 - val_Specificity: 0.9495 - val_Sensitivity: 0.9022 - lr: 0.0010\n",
      "Epoch 13/50\n",
      "878/878 [==============================] - ETA: 0s - loss: 0.8690 - tp: 20640.0000 - fp: 7443.0000 - tn: 104889.0000 - fn: 7443.0000 - accuracy: 0.8940 - precision: 0.7350 - recall: 0.7350 - auc: 0.8890 - prc: 0.6629 - Specificity: 0.9548 - Sensitivity: 0.9442\n",
      "Epoch 13: val_Specificity did not improve from 0.95781\n",
      "878/878 [==============================] - 1131s 1s/step - loss: 0.8690 - tp: 20640.0000 - fp: 7443.0000 - tn: 104889.0000 - fn: 7443.0000 - accuracy: 0.8940 - precision: 0.7350 - recall: 0.7350 - auc: 0.8890 - prc: 0.6629 - Specificity: 0.9548 - Sensitivity: 0.9442 - val_loss: 0.8647 - val_tp: 2580.0000 - val_fp: 928.0000 - val_tn: 13104.0000 - val_fn: 928.0000 - val_accuracy: 0.8942 - val_precision: 0.7355 - val_recall: 0.7355 - val_auc: 0.8929 - val_prc: 0.6758 - val_Specificity: 0.9528 - val_Sensitivity: 0.9230 - lr: 0.0010\n",
      "Epoch 14/50\n",
      "878/878 [==============================] - ETA: 0s - loss: 0.8689 - tp: 20640.0000 - fp: 7443.0000 - tn: 104889.0000 - fn: 7443.0000 - accuracy: 0.8940 - precision: 0.7350 - recall: 0.7350 - auc: 0.8894 - prc: 0.6659 - Specificity: 0.9522 - Sensitivity: 0.9504\n",
      "Epoch 14: val_Specificity did not improve from 0.95781\n",
      "878/878 [==============================] - 1213s 1s/step - loss: 0.8689 - tp: 20640.0000 - fp: 7443.0000 - tn: 104889.0000 - fn: 7443.0000 - accuracy: 0.8940 - precision: 0.7350 - recall: 0.7350 - auc: 0.8894 - prc: 0.6659 - Specificity: 0.9522 - Sensitivity: 0.9504 - val_loss: 0.8648 - val_tp: 2580.0000 - val_fp: 928.0000 - val_tn: 13104.0000 - val_fn: 928.0000 - val_accuracy: 0.8942 - val_precision: 0.7355 - val_recall: 0.7355 - val_auc: 0.8928 - val_prc: 0.6746 - val_Specificity: 0.9565 - val_Sensitivity: 0.9182 - lr: 0.0010\n",
      "Epoch 15/50\n",
      "342/878 [==========>...................] - ETA: 13:22 - loss: 0.8651 - tp: 8069.0000 - fp: 2875.0000 - tn: 40901.0000 - fn: 2875.0000 - accuracy: 0.8949 - precision: 0.7373 - recall: 0.7373 - auc: 0.8900 - prc: 0.6689 - Specificity: 0.9545 - Sensitivity: 0.9496"
     ]
    }
   ],
   "source": [
    "if not is_test_only:\n",
    "    history = model.fit(x=train_iterator, epochs=epochs, \n",
    "                        validation_data=validation_iterator, \n",
    "                        callbacks=callbacks_for_enhanced,\n",
    "                        batch_size=batch_size)"
   ]
  },
  {
   "cell_type": "code",
   "execution_count": null,
   "id": "6a9a2f48",
   "metadata": {},
   "outputs": [],
   "source": [
    "if not is_test_only:\n",
    "    import numpy as np\n",
    "    np.save('history.npy', history.history)\n",
    "    # In order to load, we will use the following line\n",
    "    # history1 = np.load('history.npy', allow_pickle=True).item()"
   ]
  },
  {
   "cell_type": "code",
   "execution_count": null,
   "id": "7410090a",
   "metadata": {},
   "outputs": [],
   "source": [
    "if not is_test_only:\n",
    "    metrics_and_plots.plot_metrics(history)"
   ]
  },
  {
   "cell_type": "code",
   "execution_count": null,
   "id": "448254a4",
   "metadata": {},
   "outputs": [],
   "source": [
    "model.load_weights(filepath_for_enhanced)"
   ]
  },
  {
   "cell_type": "code",
   "execution_count": null,
   "id": "ef5f7ca2",
   "metadata": {},
   "outputs": [],
   "source": [
    "test_predictions_baseline = model.predict(test_iterator, batch_size=64)\n",
    "y_test = to_categorical(test_iterator.labels)"
   ]
  },
  {
   "cell_type": "code",
   "execution_count": null,
   "id": "afb1e46e",
   "metadata": {},
   "outputs": [],
   "source": [
    "baseline_results = model.evaluate(test_iterator,\n",
    "                                  batch_size=64, verbose=0)\n",
    "for name, value in zip(model.metrics_names, baseline_results):\n",
    "    print(name, ': ', value)\n",
    "print('.......................................')"
   ]
  },
  {
   "cell_type": "code",
   "execution_count": null,
   "id": "3ebf7d5b",
   "metadata": {},
   "outputs": [],
   "source": [
    "# Compute ROC curve and ROC area for each class\n",
    "\n",
    "y_score = test_predictions_baseline\n",
    "n_classes = 5\n",
    "metrics_and_plots.plot_roc(y_test, y_score, 5)"
   ]
  },
  {
   "cell_type": "code",
   "execution_count": null,
   "id": "b559067c",
   "metadata": {},
   "outputs": [],
   "source": [
    "from sklearn.metrics import confusion_matrix, accuracy_score, classification_report, f1_score, ConfusionMatrixDisplay"
   ]
  },
  {
   "cell_type": "code",
   "execution_count": null,
   "id": "4f5bdcea",
   "metadata": {},
   "outputs": [],
   "source": [
    "def predict_label_by_category(predict_categorical):\n",
    "    for result in predict_categorical:\n",
    "        yield tf.math.argmax(result).numpy()"
   ]
  },
  {
   "cell_type": "code",
   "execution_count": null,
   "id": "59e0ea4e",
   "metadata": {},
   "outputs": [],
   "source": [
    "test_label = list(predict_label_by_category(y_test))\n",
    "predict_label = list(predict_label_by_category(y_score))"
   ]
  },
  {
   "cell_type": "code",
   "execution_count": null,
   "id": "588da70b",
   "metadata": {},
   "outputs": [],
   "source": [
    "print(f\"F1 score - micro: {f1_score(test_label, predict_label, average='micro')}\\nF1 score - macro: {f1_score(test_label, predict_label, average='macro')}\\nF1 score - weighted: {f1_score(test_label, predict_label, average='weighted')}\")"
   ]
  },
  {
   "cell_type": "code",
   "execution_count": null,
   "id": "e20e8fd7",
   "metadata": {},
   "outputs": [],
   "source": []
  }
 ],
 "metadata": {
  "kernelspec": {
   "display_name": "Python 3 (ipykernel)",
   "language": "python",
   "name": "python3"
  },
  "language_info": {
   "codemirror_mode": {
    "name": "ipython",
    "version": 3
   },
   "file_extension": ".py",
   "mimetype": "text/x-python",
   "name": "python",
   "nbconvert_exporter": "python",
   "pygments_lexer": "ipython3",
   "version": "3.9.16"
  }
 },
 "nbformat": 4,
 "nbformat_minor": 5
}
